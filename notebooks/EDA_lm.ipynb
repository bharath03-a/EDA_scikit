{
 "cells": [
  {
   "cell_type": "markdown",
   "id": "350e08bc",
   "metadata": {},
   "source": [
    "## Exploratory Data Analysis and Linear Models\n",
    "This is the process of me getting to know and explore scikit learn library for machine learning. My goals in this process are to:\n",
    "- Develop Machine Learning skills while exploring scikit learn.\n",
    "- Create my own repository containing an overview of what could be done using scikit learn.\n",
    "- And add key points which made me think out loud and surpised me!\n",
    "- With this I also would like to recall and hone my skills in pandas, numpy, scipy, seaborn, matplotlib and more"
   ]
  },
  {
   "cell_type": "code",
   "execution_count": 1,
   "id": "aa8f4f30-3678-41e5-b655-4a946d57aab0",
   "metadata": {},
   "outputs": [
    {
     "name": "stdout",
     "output_type": "stream",
     "text": [
      "Requirement already satisfied: numpy in c:\\users\\ual-laptop\\anaconda3\\lib\\site-packages (1.26.2)\n",
      "Requirement already satisfied: pandas in c:\\users\\ual-laptop\\anaconda3\\lib\\site-packages (2.1.4)\n",
      "Requirement already satisfied: numpy<2,>=1.23.2 in c:\\users\\ual-laptop\\anaconda3\\lib\\site-packages (from pandas) (1.26.2)\n",
      "Requirement already satisfied: python-dateutil>=2.8.2 in c:\\users\\ual-laptop\\appdata\\roaming\\python\\python311\\site-packages (from pandas) (2.8.2)\n",
      "Requirement already satisfied: pytz>=2020.1 in c:\\users\\ual-laptop\\anaconda3\\lib\\site-packages (from pandas) (2023.3.post1)\n",
      "Requirement already satisfied: tzdata>=2022.1 in c:\\users\\ual-laptop\\anaconda3\\lib\\site-packages (from pandas) (2023.3)\n",
      "Requirement already satisfied: six>=1.5 in c:\\users\\ual-laptop\\appdata\\roaming\\python\\python311\\site-packages (from python-dateutil>=2.8.2->pandas) (1.16.0)\n",
      "Requirement already satisfied: seaborn in c:\\users\\ual-laptop\\anaconda3\\lib\\site-packages (0.13.0)\n",
      "Requirement already satisfied: numpy!=1.24.0,>=1.20 in c:\\users\\ual-laptop\\anaconda3\\lib\\site-packages (from seaborn) (1.26.2)\n",
      "Requirement already satisfied: pandas>=1.2 in c:\\users\\ual-laptop\\anaconda3\\lib\\site-packages (from seaborn) (2.1.4)\n",
      "Requirement already satisfied: matplotlib!=3.6.1,>=3.3 in c:\\users\\ual-laptop\\anaconda3\\lib\\site-packages (from seaborn) (3.8.2)\n",
      "Requirement already satisfied: contourpy>=1.0.1 in c:\\users\\ual-laptop\\anaconda3\\lib\\site-packages (from matplotlib!=3.6.1,>=3.3->seaborn) (1.2.0)\n",
      "Requirement already satisfied: cycler>=0.10 in c:\\users\\ual-laptop\\anaconda3\\lib\\site-packages (from matplotlib!=3.6.1,>=3.3->seaborn) (0.12.1)\n",
      "Requirement already satisfied: fonttools>=4.22.0 in c:\\users\\ual-laptop\\anaconda3\\lib\\site-packages (from matplotlib!=3.6.1,>=3.3->seaborn) (4.46.0)\n",
      "Requirement already satisfied: kiwisolver>=1.3.1 in c:\\users\\ual-laptop\\anaconda3\\lib\\site-packages (from matplotlib!=3.6.1,>=3.3->seaborn) (1.4.5)\n",
      "Requirement already satisfied: packaging>=20.0 in c:\\users\\ual-laptop\\appdata\\roaming\\python\\python311\\site-packages (from matplotlib!=3.6.1,>=3.3->seaborn) (23.2)\n",
      "Requirement already satisfied: pillow>=8 in c:\\users\\ual-laptop\\anaconda3\\lib\\site-packages (from matplotlib!=3.6.1,>=3.3->seaborn) (10.0.1)\n",
      "Requirement already satisfied: pyparsing>=2.3.1 in c:\\users\\ual-laptop\\anaconda3\\lib\\site-packages (from matplotlib!=3.6.1,>=3.3->seaborn) (3.1.1)\n",
      "Requirement already satisfied: python-dateutil>=2.7 in c:\\users\\ual-laptop\\appdata\\roaming\\python\\python311\\site-packages (from matplotlib!=3.6.1,>=3.3->seaborn) (2.8.2)\n",
      "Requirement already satisfied: pytz>=2020.1 in c:\\users\\ual-laptop\\anaconda3\\lib\\site-packages (from pandas>=1.2->seaborn) (2023.3.post1)\n",
      "Requirement already satisfied: tzdata>=2022.1 in c:\\users\\ual-laptop\\anaconda3\\lib\\site-packages (from pandas>=1.2->seaborn) (2023.3)\n",
      "Requirement already satisfied: six>=1.5 in c:\\users\\ual-laptop\\appdata\\roaming\\python\\python311\\site-packages (from python-dateutil>=2.7->matplotlib!=3.6.1,>=3.3->seaborn) (1.16.0)\n",
      "Requirement already satisfied: matplotlib in c:\\users\\ual-laptop\\anaconda3\\lib\\site-packages (3.8.2)\n",
      "Requirement already satisfied: contourpy>=1.0.1 in c:\\users\\ual-laptop\\anaconda3\\lib\\site-packages (from matplotlib) (1.2.0)\n",
      "Requirement already satisfied: cycler>=0.10 in c:\\users\\ual-laptop\\anaconda3\\lib\\site-packages (from matplotlib) (0.12.1)\n",
      "Requirement already satisfied: fonttools>=4.22.0 in c:\\users\\ual-laptop\\anaconda3\\lib\\site-packages (from matplotlib) (4.46.0)\n",
      "Requirement already satisfied: kiwisolver>=1.3.1 in c:\\users\\ual-laptop\\anaconda3\\lib\\site-packages (from matplotlib) (1.4.5)\n",
      "Requirement already satisfied: numpy<2,>=1.21 in c:\\users\\ual-laptop\\anaconda3\\lib\\site-packages (from matplotlib) (1.26.2)\n",
      "Requirement already satisfied: packaging>=20.0 in c:\\users\\ual-laptop\\appdata\\roaming\\python\\python311\\site-packages (from matplotlib) (23.2)\n",
      "Requirement already satisfied: pillow>=8 in c:\\users\\ual-laptop\\anaconda3\\lib\\site-packages (from matplotlib) (10.0.1)\n",
      "Requirement already satisfied: pyparsing>=2.3.1 in c:\\users\\ual-laptop\\anaconda3\\lib\\site-packages (from matplotlib) (3.1.1)\n",
      "Requirement already satisfied: python-dateutil>=2.7 in c:\\users\\ual-laptop\\appdata\\roaming\\python\\python311\\site-packages (from matplotlib) (2.8.2)\n",
      "Requirement already satisfied: six>=1.5 in c:\\users\\ual-laptop\\appdata\\roaming\\python\\python311\\site-packages (from python-dateutil>=2.7->matplotlib) (1.16.0)\n"
     ]
    }
   ],
   "source": [
    "!pip install numpy\n",
    "!pip install pandas\n",
    "!pip install seaborn\n",
    "!pip install matplotlib"
   ]
  },
  {
   "cell_type": "code",
   "execution_count": 2,
   "id": "19e8620b-961d-46b6-97ba-0b8ccd251f3b",
   "metadata": {},
   "outputs": [
    {
     "name": "stdout",
     "output_type": "stream",
     "text": [
      "['laptops_train.csv']\n"
     ]
    }
   ],
   "source": [
    "import sys\n",
    "import numpy as np\n",
    "import pandas as pd\n",
    "import seaborn as sns\n",
    "from matplotlib import pyplot as plt\n",
    "\n",
    "sys.path.append('../scripts')\n",
    "import utilities as ut\n",
    "\n",
    "sns.set_style(\"whitegrid\")\n",
    "%matplotlib inline\n",
    "\n",
    "import os \n",
    "print(os.listdir(\"../data\"))"
   ]
  },
  {
   "cell_type": "markdown",
   "id": "b5ea52a2",
   "metadata": {},
   "source": [
    "## Importing Libraries and Packages\n",
    "We will be use these packages to help us manipulate the data and visualize the features as well as measure how well our model performed."
   ]
  },
  {
   "cell_type": "markdown",
   "id": "ef328f13",
   "metadata": {},
   "source": [
    "## Loading and Viewing Data Set\n",
    "Before we begin, we should take a look at our data table to see the values that we'll be working with. We can use the head and describe function to look at some sample data and statistics. We can also look at its keys and column names."
   ]
  },
  {
   "cell_type": "code",
   "execution_count": 3,
   "id": "124d9387",
   "metadata": {
    "tags": []
   },
   "outputs": [
    {
     "data": {
      "text/html": [
       "<div>\n",
       "<style scoped>\n",
       "    .dataframe tbody tr th:only-of-type {\n",
       "        vertical-align: middle;\n",
       "    }\n",
       "\n",
       "    .dataframe tbody tr th {\n",
       "        vertical-align: top;\n",
       "    }\n",
       "\n",
       "    .dataframe thead th {\n",
       "        text-align: right;\n",
       "    }\n",
       "</style>\n",
       "<table border=\"1\" class=\"dataframe\">\n",
       "  <thead>\n",
       "    <tr style=\"text-align: right;\">\n",
       "      <th></th>\n",
       "      <th>Manufacturer</th>\n",
       "      <th>Model Name</th>\n",
       "      <th>Category</th>\n",
       "      <th>Screen Size</th>\n",
       "      <th>Screen</th>\n",
       "      <th>CPU</th>\n",
       "      <th>RAM</th>\n",
       "      <th>Storage</th>\n",
       "      <th>GPU</th>\n",
       "      <th>Operating System</th>\n",
       "      <th>Operating System Version</th>\n",
       "      <th>Weight</th>\n",
       "      <th>Price</th>\n",
       "    </tr>\n",
       "  </thead>\n",
       "  <tbody>\n",
       "    <tr>\n",
       "      <th>0</th>\n",
       "      <td>Apple</td>\n",
       "      <td>MacBook Pro</td>\n",
       "      <td>Ultrabook</td>\n",
       "      <td>13.3\"</td>\n",
       "      <td>IPS Panel Retina Display 2560x1600</td>\n",
       "      <td>Intel Core i5 2.3GHz</td>\n",
       "      <td>8GB</td>\n",
       "      <td>128GB SSD</td>\n",
       "      <td>Intel Iris Plus Graphics 640</td>\n",
       "      <td>macOS</td>\n",
       "      <td>NaN</td>\n",
       "      <td>1.37kg</td>\n",
       "      <td>11912523.48</td>\n",
       "    </tr>\n",
       "    <tr>\n",
       "      <th>1</th>\n",
       "      <td>Apple</td>\n",
       "      <td>Macbook Air</td>\n",
       "      <td>Ultrabook</td>\n",
       "      <td>13.3\"</td>\n",
       "      <td>1440x900</td>\n",
       "      <td>Intel Core i5 1.8GHz</td>\n",
       "      <td>8GB</td>\n",
       "      <td>128GB Flash Storage</td>\n",
       "      <td>Intel HD Graphics 6000</td>\n",
       "      <td>macOS</td>\n",
       "      <td>NaN</td>\n",
       "      <td>1.34kg</td>\n",
       "      <td>7993374.48</td>\n",
       "    </tr>\n",
       "    <tr>\n",
       "      <th>2</th>\n",
       "      <td>HP</td>\n",
       "      <td>250 G6</td>\n",
       "      <td>Notebook</td>\n",
       "      <td>15.6\"</td>\n",
       "      <td>Full HD 1920x1080</td>\n",
       "      <td>Intel Core i5 7200U 2.5GHz</td>\n",
       "      <td>8GB</td>\n",
       "      <td>256GB SSD</td>\n",
       "      <td>Intel HD Graphics 620</td>\n",
       "      <td>No OS</td>\n",
       "      <td>NaN</td>\n",
       "      <td>1.86kg</td>\n",
       "      <td>5112900.00</td>\n",
       "    </tr>\n",
       "    <tr>\n",
       "      <th>3</th>\n",
       "      <td>Apple</td>\n",
       "      <td>MacBook Pro</td>\n",
       "      <td>Ultrabook</td>\n",
       "      <td>15.4\"</td>\n",
       "      <td>IPS Panel Retina Display 2880x1800</td>\n",
       "      <td>Intel Core i7 2.7GHz</td>\n",
       "      <td>16GB</td>\n",
       "      <td>512GB SSD</td>\n",
       "      <td>AMD Radeon Pro 455</td>\n",
       "      <td>macOS</td>\n",
       "      <td>NaN</td>\n",
       "      <td>1.83kg</td>\n",
       "      <td>22563005.40</td>\n",
       "    </tr>\n",
       "    <tr>\n",
       "      <th>4</th>\n",
       "      <td>Apple</td>\n",
       "      <td>MacBook Pro</td>\n",
       "      <td>Ultrabook</td>\n",
       "      <td>13.3\"</td>\n",
       "      <td>IPS Panel Retina Display 2560x1600</td>\n",
       "      <td>Intel Core i5 3.1GHz</td>\n",
       "      <td>8GB</td>\n",
       "      <td>256GB SSD</td>\n",
       "      <td>Intel Iris Plus Graphics 650</td>\n",
       "      <td>macOS</td>\n",
       "      <td>NaN</td>\n",
       "      <td>1.37kg</td>\n",
       "      <td>16037611.20</td>\n",
       "    </tr>\n",
       "  </tbody>\n",
       "</table>\n",
       "</div>"
      ],
      "text/plain": [
       "  Manufacturer   Model Name   Category Screen Size  \\\n",
       "0        Apple  MacBook Pro  Ultrabook       13.3\"   \n",
       "1        Apple  Macbook Air  Ultrabook       13.3\"   \n",
       "2           HP       250 G6   Notebook       15.6\"   \n",
       "3        Apple  MacBook Pro  Ultrabook       15.4\"   \n",
       "4        Apple  MacBook Pro  Ultrabook       13.3\"   \n",
       "\n",
       "                               Screen                         CPU   RAM  \\\n",
       "0  IPS Panel Retina Display 2560x1600        Intel Core i5 2.3GHz   8GB   \n",
       "1                            1440x900        Intel Core i5 1.8GHz   8GB   \n",
       "2                   Full HD 1920x1080  Intel Core i5 7200U 2.5GHz   8GB   \n",
       "3  IPS Panel Retina Display 2880x1800        Intel Core i7 2.7GHz  16GB   \n",
       "4  IPS Panel Retina Display 2560x1600        Intel Core i5 3.1GHz   8GB   \n",
       "\n",
       "               Storage                           GPU Operating System  \\\n",
       "0            128GB SSD  Intel Iris Plus Graphics 640            macOS   \n",
       "1  128GB Flash Storage        Intel HD Graphics 6000            macOS   \n",
       "2            256GB SSD         Intel HD Graphics 620            No OS   \n",
       "3            512GB SSD            AMD Radeon Pro 455            macOS   \n",
       "4            256GB SSD  Intel Iris Plus Graphics 650            macOS   \n",
       "\n",
       "  Operating System Version  Weight        Price  \n",
       "0                      NaN  1.37kg  11912523.48  \n",
       "1                      NaN  1.34kg   7993374.48  \n",
       "2                      NaN  1.86kg   5112900.00  \n",
       "3                      NaN  1.83kg  22563005.40  \n",
       "4                      NaN  1.37kg  16037611.20  "
      ]
     },
     "execution_count": 3,
     "metadata": {},
     "output_type": "execute_result"
    }
   ],
   "source": [
    "laptops_data = pd.read_csv(\"../data/laptops_train.csv\")\n",
    "\n",
    "laptops_data.head()"
   ]
  },
  {
   "cell_type": "markdown",
   "id": "8239b86d",
   "metadata": {},
   "source": [
    "Starting our exploratory data analysis before implementing scikit learn linear models on top of this dataset. We will be performing the following operations on our dataset:\n",
    "- Data Preprocessing\n",
    "- Segementing data into smaller unique values\n",
    "- Handling Datatypes\n",
    "- Data Quality"
   ]
  },
  {
   "cell_type": "code",
   "execution_count": 4,
   "id": "fee3e196",
   "metadata": {
    "tags": []
   },
   "outputs": [
    {
     "name": "stdout",
     "output_type": "stream",
     "text": [
      "<class 'pandas.core.frame.DataFrame'>\n",
      "RangeIndex: 977 entries, 0 to 976\n",
      "Data columns (total 13 columns):\n",
      " #   Column                    Non-Null Count  Dtype  \n",
      "---  ------                    --------------  -----  \n",
      " 0   Manufacturer              977 non-null    object \n",
      " 1   Model Name                977 non-null    object \n",
      " 2   Category                  977 non-null    object \n",
      " 3   Screen Size               977 non-null    object \n",
      " 4   Screen                    977 non-null    object \n",
      " 5   CPU                       977 non-null    object \n",
      " 6   RAM                       977 non-null    object \n",
      " 7   Storage                   977 non-null    object \n",
      " 8   GPU                       977 non-null    object \n",
      " 9   Operating System          977 non-null    object \n",
      " 10  Operating System Version  841 non-null    object \n",
      " 11  Weight                    977 non-null    object \n",
      " 12  Price                     977 non-null    float64\n",
      "dtypes: float64(1), object(12)\n",
      "memory usage: 99.4+ KB\n"
     ]
    }
   ],
   "source": [
    "#check null values and data types in all columns\n",
    "laptops_data.info()"
   ]
  },
  {
   "cell_type": "markdown",
   "id": "4458657d",
   "metadata": {},
   "source": [
    "If we see there are columns such as Screen Size, CPU, Storage and Weight attributes with their units in the data. We will be modifying the data such that we will change their datatype."
   ]
  },
  {
   "cell_type": "code",
   "execution_count": 5,
   "id": "f298cb1a",
   "metadata": {
    "tags": []
   },
   "outputs": [
    {
     "name": "stdout",
     "output_type": "stream",
     "text": [
      "<class 'pandas.core.frame.DataFrame'>\n",
      "RangeIndex: 977 entries, 0 to 976\n",
      "Data columns (total 13 columns):\n",
      " #   Column                    Non-Null Count  Dtype  \n",
      "---  ------                    --------------  -----  \n",
      " 0   manufacturer              977 non-null    object \n",
      " 1   model_name                977 non-null    object \n",
      " 2   category                  977 non-null    object \n",
      " 3   screen_size               977 non-null    object \n",
      " 4   screen                    977 non-null    object \n",
      " 5   cpu                       977 non-null    object \n",
      " 6   ram                       977 non-null    object \n",
      " 7   storage                   977 non-null    object \n",
      " 8   gpu                       977 non-null    object \n",
      " 9   operating_system          977 non-null    object \n",
      " 10  operating_system_version  841 non-null    object \n",
      " 11  weight                    977 non-null    object \n",
      " 12  price                     977 non-null    float64\n",
      "dtypes: float64(1), object(12)\n",
      "memory usage: 99.4+ KB\n"
     ]
    }
   ],
   "source": [
    "laptops_data.columns = laptops_data.columns.str.strip().str.lower().str.replace(' ', '_').str.replace('(', '').str.replace(')', '')\n",
    "\n",
    "laptops_data.info()"
   ]
  },
  {
   "cell_type": "code",
   "execution_count": 6,
   "id": "9290c4a0-4f4c-49fc-8da2-2b7bec7192a5",
   "metadata": {
    "tags": []
   },
   "outputs": [
    {
     "name": "stdout",
     "output_type": "stream",
     "text": [
      "['__builtins__', '__cached__', '__doc__', '__file__', '__loader__', '__name__', '__package__', '__spec__', 'convert_cpu', 'get_gpu', 'get_storage_type', 'np', 'os', 'pd']\n"
     ]
    }
   ],
   "source": [
    "print(dir(ut))"
   ]
  },
  {
   "cell_type": "code",
   "execution_count": 7,
   "id": "babc7e7d",
   "metadata": {
    "tags": []
   },
   "outputs": [],
   "source": [
    "# modifying screen_size data\n",
    "laptops_data['screen_size'] = laptops_data['screen_size'].str.replace('\"','')\n",
    "\n",
    "# modifying CPU\n",
    "laptops_data['cpu'] = laptops_data['cpu'].apply(ut.convert_cpu)\n",
    "\n",
    "laptops_data['ram'] = laptops_data['ram'].str.split('GB').str[0]\n",
    "\n",
    "laptops_data['gpu'] = laptops_data['gpu'].apply(ut.get_gpu)\n",
    "\n",
    "laptops_data['operating_system'] = laptops_data['operating_system'].str.replace('macOS','Mac OS')\n",
    "\n",
    "laptops_data['weight'] = laptops_data['weight'].str.split('kg').str[0]"
   ]
  },
  {
   "cell_type": "code",
   "execution_count": 8,
   "id": "5f53c6d3-7c01-48bf-90c5-f51bb2239a69",
   "metadata": {
    "tags": []
   },
   "outputs": [],
   "source": [
    "laptops_data['operating_system_version'] = laptops_data['operating_system_version'].fillna(laptops_data['operating_system_version'].mode()[0])\n",
    "\n",
    "laptops_data['operating_system_version'] = laptops_data['operating_system_version'].str.replace('X','10')\n",
    "\n",
    "laptops_data['operating_system_version'] = laptops_data['operating_system_version'].str.replace('10 S','10')"
   ]
  },
  {
   "cell_type": "code",
   "execution_count": 9,
   "id": "4b675c6b-75f6-44c8-bbf4-73093ad4098c",
   "metadata": {
    "tags": []
   },
   "outputs": [],
   "source": [
    "#regualar or more powerfull laptop can never be in crore price\n",
    "#price will  be in lakh so we string str funtion to get price in lakhs\n",
    "\n",
    "laptops_data['price'] = laptops_data['price'].astype('str').str[:7]"
   ]
  },
  {
   "cell_type": "code",
   "execution_count": 10,
   "id": "5083877f-0420-4a83-9ee1-816fb8f2e8a4",
   "metadata": {
    "tags": []
   },
   "outputs": [
    {
     "data": {
      "text/html": [
       "<div>\n",
       "<style scoped>\n",
       "    .dataframe tbody tr th:only-of-type {\n",
       "        vertical-align: middle;\n",
       "    }\n",
       "\n",
       "    .dataframe tbody tr th {\n",
       "        vertical-align: top;\n",
       "    }\n",
       "\n",
       "    .dataframe thead th {\n",
       "        text-align: right;\n",
       "    }\n",
       "</style>\n",
       "<table border=\"1\" class=\"dataframe\">\n",
       "  <thead>\n",
       "    <tr style=\"text-align: right;\">\n",
       "      <th></th>\n",
       "      <th>manufacturer</th>\n",
       "      <th>model_name</th>\n",
       "      <th>category</th>\n",
       "      <th>screen_size</th>\n",
       "      <th>screen</th>\n",
       "      <th>cpu</th>\n",
       "      <th>ram</th>\n",
       "      <th>storage</th>\n",
       "      <th>price</th>\n",
       "      <th>gpu</th>\n",
       "      <th>operating_system</th>\n",
       "      <th>operating_system_version</th>\n",
       "      <th>weight</th>\n",
       "    </tr>\n",
       "  </thead>\n",
       "  <tbody>\n",
       "    <tr>\n",
       "      <th>0</th>\n",
       "      <td>Apple</td>\n",
       "      <td>MacBook Pro</td>\n",
       "      <td>Ultrabook</td>\n",
       "      <td>13.3</td>\n",
       "      <td>IPS Panel Retina Display 2560x1600</td>\n",
       "      <td>i5</td>\n",
       "      <td>8</td>\n",
       "      <td>128GB SSD</td>\n",
       "      <td>1191252</td>\n",
       "      <td>Intel</td>\n",
       "      <td>Mac OS</td>\n",
       "      <td>10</td>\n",
       "      <td>1.37</td>\n",
       "    </tr>\n",
       "    <tr>\n",
       "      <th>1</th>\n",
       "      <td>Apple</td>\n",
       "      <td>Macbook Air</td>\n",
       "      <td>Ultrabook</td>\n",
       "      <td>13.3</td>\n",
       "      <td>1440x900</td>\n",
       "      <td>i5</td>\n",
       "      <td>8</td>\n",
       "      <td>128GB Flash Storage</td>\n",
       "      <td>7993374</td>\n",
       "      <td>Intel</td>\n",
       "      <td>Mac OS</td>\n",
       "      <td>10</td>\n",
       "      <td>1.34</td>\n",
       "    </tr>\n",
       "    <tr>\n",
       "      <th>2</th>\n",
       "      <td>HP</td>\n",
       "      <td>250 G6</td>\n",
       "      <td>Notebook</td>\n",
       "      <td>15.6</td>\n",
       "      <td>Full HD 1920x1080</td>\n",
       "      <td>i5</td>\n",
       "      <td>8</td>\n",
       "      <td>256GB SSD</td>\n",
       "      <td>5112900</td>\n",
       "      <td>Intel</td>\n",
       "      <td>No OS</td>\n",
       "      <td>10</td>\n",
       "      <td>1.86</td>\n",
       "    </tr>\n",
       "    <tr>\n",
       "      <th>3</th>\n",
       "      <td>Apple</td>\n",
       "      <td>MacBook Pro</td>\n",
       "      <td>Ultrabook</td>\n",
       "      <td>15.4</td>\n",
       "      <td>IPS Panel Retina Display 2880x1800</td>\n",
       "      <td>i7</td>\n",
       "      <td>16</td>\n",
       "      <td>512GB SSD</td>\n",
       "      <td>2256300</td>\n",
       "      <td>AMD</td>\n",
       "      <td>Mac OS</td>\n",
       "      <td>10</td>\n",
       "      <td>1.83</td>\n",
       "    </tr>\n",
       "    <tr>\n",
       "      <th>4</th>\n",
       "      <td>Apple</td>\n",
       "      <td>MacBook Pro</td>\n",
       "      <td>Ultrabook</td>\n",
       "      <td>13.3</td>\n",
       "      <td>IPS Panel Retina Display 2560x1600</td>\n",
       "      <td>i5</td>\n",
       "      <td>8</td>\n",
       "      <td>256GB SSD</td>\n",
       "      <td>1603761</td>\n",
       "      <td>Intel</td>\n",
       "      <td>Mac OS</td>\n",
       "      <td>10</td>\n",
       "      <td>1.37</td>\n",
       "    </tr>\n",
       "  </tbody>\n",
       "</table>\n",
       "</div>"
      ],
      "text/plain": [
       "  manufacturer   model_name   category screen_size  \\\n",
       "0        Apple  MacBook Pro  Ultrabook        13.3   \n",
       "1        Apple  Macbook Air  Ultrabook        13.3   \n",
       "2           HP       250 G6   Notebook        15.6   \n",
       "3        Apple  MacBook Pro  Ultrabook        15.4   \n",
       "4        Apple  MacBook Pro  Ultrabook        13.3   \n",
       "\n",
       "                               screen cpu ram              storage    price  \\\n",
       "0  IPS Panel Retina Display 2560x1600  i5   8            128GB SSD  1191252   \n",
       "1                            1440x900  i5   8  128GB Flash Storage  7993374   \n",
       "2                   Full HD 1920x1080  i5   8            256GB SSD  5112900   \n",
       "3  IPS Panel Retina Display 2880x1800  i7  16            512GB SSD  2256300   \n",
       "4  IPS Panel Retina Display 2560x1600  i5   8            256GB SSD  1603761   \n",
       "\n",
       "     gpu operating_system operating_system_version weight  \n",
       "0  Intel           Mac OS                       10   1.37  \n",
       "1  Intel           Mac OS                       10   1.34  \n",
       "2  Intel            No OS                       10   1.86  \n",
       "3    AMD           Mac OS                       10   1.83  \n",
       "4  Intel           Mac OS                       10   1.37  "
      ]
     },
     "execution_count": 10,
     "metadata": {},
     "output_type": "execute_result"
    }
   ],
   "source": [
    "column_names = list(laptops_data.columns)\n",
    "new_column_index = 8  # Index after which you want to place the new column\n",
    "\n",
    "# Reorder columns\n",
    "column_names.insert(new_column_index, column_names.pop())\n",
    "\n",
    "# Create a new DataFrame with the reordered columns\n",
    "laptops_data = laptops_data[column_names]\n",
    "\n",
    "# Now, the new column is placed after the first column\n",
    "laptops_data.head()"
   ]
  },
  {
   "cell_type": "markdown",
   "id": "2575dd40",
   "metadata": {},
   "source": [
    "Implementing Machine Learning Methods on this dataset. Getting the categorical and numerical features in this dataset."
   ]
  },
  {
   "cell_type": "code",
   "execution_count": 11,
   "id": "2e71f9e5",
   "metadata": {},
   "outputs": [
    {
     "data": {
      "text/plain": [
       "(Index(['manufacturer', 'model_name', 'category', 'screen_size', 'screen',\n",
       "        'cpu', 'ram', 'storage', 'price', 'gpu', 'operating_system',\n",
       "        'operating_system_version', 'weight'],\n",
       "       dtype='object'),\n",
       " Index([], dtype='object'))"
      ]
     },
     "execution_count": 11,
     "metadata": {},
     "output_type": "execute_result"
    }
   ],
   "source": [
    "catvar = laptops_data.select_dtypes(include = ['object']).columns\n",
    "numvar = laptops_data.select_dtypes(include = ['float64']).columns\n",
    "catvar,numvar"
   ]
  },
  {
   "cell_type": "code",
   "execution_count": 12,
   "id": "bbbc3dc4-d9de-4d83-8059-639ca81b622a",
   "metadata": {},
   "outputs": [
    {
     "data": {
      "image/png": "[encoded data removed]",
      "text/plain": [
       "<Figure size 1500x700 with 1 Axes>"
      ]
     },
     "metadata": {},
     "output_type": "display_data"
    },
    {
     "data": {
      "image/png": "[encoded data removed]",
      "text/plain": [
       "<Figure size 1500x700 with 1 Axes>"
      ]
     },
     "metadata": {},
     "output_type": "display_data"
    },
    {
     "data": {
      "image/png": "[encoded data removed]",
      "text/plain": [
       "<Figure size 1500x700 with 1 Axes>"
      ]
     },
     "metadata": {},
     "output_type": "display_data"
    },
    {
     "data": {
      "image/png": "[encoded data removed]",
      "text/plain": [
       "<Figure size 1500x700 with 1 Axes>"
      ]
     },
     "metadata": {},
     "output_type": "display_data"
    }
   ],
   "source": [
    "def drawplot(col):\n",
    "    plt.figure(figsize = (15,7))\n",
    "    sns.countplot( x = col, data = laptops_data , palette = 'plasma', hue = col, legend = False)\n",
    "    plt.xticks(rotation = 'vertical')\n",
    "    \n",
    "toview = ['manufacturer', 'category', 'ram', 'operating_system']\n",
    "for col in toview:\n",
    "    drawplot(col)"
   ]
  },
  {
   "cell_type": "code",
   "execution_count": 13,
   "id": "47c69748-e801-452a-8d83-6d2be35b54f3",
   "metadata": {},
   "outputs": [
    {
     "data": {
      "text/html": [
       "<div>\n",
       "<style scoped>\n",
       "    .dataframe tbody tr th:only-of-type {\n",
       "        vertical-align: middle;\n",
       "    }\n",
       "\n",
       "    .dataframe tbody tr th {\n",
       "        vertical-align: top;\n",
       "    }\n",
       "\n",
       "    .dataframe thead th {\n",
       "        text-align: right;\n",
       "    }\n",
       "</style>\n",
       "<table border=\"1\" class=\"dataframe\">\n",
       "  <thead>\n",
       "    <tr style=\"text-align: right;\">\n",
       "      <th></th>\n",
       "      <th>0</th>\n",
       "      <th>1</th>\n",
       "    </tr>\n",
       "  </thead>\n",
       "  <tbody>\n",
       "    <tr>\n",
       "      <th>0</th>\n",
       "      <td>IPS Panel Retina Display 2560</td>\n",
       "      <td>1600</td>\n",
       "    </tr>\n",
       "    <tr>\n",
       "      <th>1</th>\n",
       "      <td>1440</td>\n",
       "      <td>900</td>\n",
       "    </tr>\n",
       "    <tr>\n",
       "      <th>2</th>\n",
       "      <td>Full HD 1920</td>\n",
       "      <td>1080</td>\n",
       "    </tr>\n",
       "    <tr>\n",
       "      <th>3</th>\n",
       "      <td>IPS Panel Retina Display 2880</td>\n",
       "      <td>1800</td>\n",
       "    </tr>\n",
       "    <tr>\n",
       "      <th>4</th>\n",
       "      <td>IPS Panel Retina Display 2560</td>\n",
       "      <td>1600</td>\n",
       "    </tr>\n",
       "  </tbody>\n",
       "</table>\n",
       "</div>"
      ],
      "text/plain": [
       "                               0     1\n",
       "0  IPS Panel Retina Display 2560  1600\n",
       "1                           1440   900\n",
       "2                   Full HD 1920  1080\n",
       "3  IPS Panel Retina Display 2880  1800\n",
       "4  IPS Panel Retina Display 2560  1600"
      ]
     },
     "execution_count": 13,
     "metadata": {},
     "output_type": "execute_result"
    }
   ],
   "source": [
    "splitdf = laptops_data['screen'].str.split('x', n=1, expand = True)\n",
    "splitdf.head()"
   ]
  },
  {
   "cell_type": "code",
   "execution_count": 14,
   "id": "2fe94b80-9666-4042-a917-ce4446304e13",
   "metadata": {},
   "outputs": [
    {
     "data": {
      "text/html": [
       "<div>\n",
       "<style scoped>\n",
       "    .dataframe tbody tr th:only-of-type {\n",
       "        vertical-align: middle;\n",
       "    }\n",
       "\n",
       "    .dataframe tbody tr th {\n",
       "        vertical-align: top;\n",
       "    }\n",
       "\n",
       "    .dataframe thead th {\n",
       "        text-align: right;\n",
       "    }\n",
       "</style>\n",
       "<table border=\"1\" class=\"dataframe\">\n",
       "  <thead>\n",
       "    <tr style=\"text-align: right;\">\n",
       "      <th></th>\n",
       "      <th>manufacturer</th>\n",
       "      <th>model_name</th>\n",
       "      <th>category</th>\n",
       "      <th>screen_size</th>\n",
       "      <th>screen</th>\n",
       "      <th>cpu</th>\n",
       "      <th>ram</th>\n",
       "      <th>storage</th>\n",
       "      <th>price</th>\n",
       "      <th>gpu</th>\n",
       "      <th>operating_system</th>\n",
       "      <th>operating_system_version</th>\n",
       "      <th>weight</th>\n",
       "      <th>x_res</th>\n",
       "      <th>y_res</th>\n",
       "    </tr>\n",
       "  </thead>\n",
       "  <tbody>\n",
       "    <tr>\n",
       "      <th>0</th>\n",
       "      <td>Apple</td>\n",
       "      <td>MacBook Pro</td>\n",
       "      <td>Ultrabook</td>\n",
       "      <td>13.3</td>\n",
       "      <td>IPS Panel Retina Display 2560x1600</td>\n",
       "      <td>i5</td>\n",
       "      <td>8</td>\n",
       "      <td>128GB SSD</td>\n",
       "      <td>1191252</td>\n",
       "      <td>Intel</td>\n",
       "      <td>Mac OS</td>\n",
       "      <td>10</td>\n",
       "      <td>1.37</td>\n",
       "      <td>2560</td>\n",
       "      <td>1600</td>\n",
       "    </tr>\n",
       "    <tr>\n",
       "      <th>1</th>\n",
       "      <td>Apple</td>\n",
       "      <td>Macbook Air</td>\n",
       "      <td>Ultrabook</td>\n",
       "      <td>13.3</td>\n",
       "      <td>1440x900</td>\n",
       "      <td>i5</td>\n",
       "      <td>8</td>\n",
       "      <td>128GB Flash Storage</td>\n",
       "      <td>7993374</td>\n",
       "      <td>Intel</td>\n",
       "      <td>Mac OS</td>\n",
       "      <td>10</td>\n",
       "      <td>1.34</td>\n",
       "      <td>1440</td>\n",
       "      <td>900</td>\n",
       "    </tr>\n",
       "    <tr>\n",
       "      <th>2</th>\n",
       "      <td>HP</td>\n",
       "      <td>250 G6</td>\n",
       "      <td>Notebook</td>\n",
       "      <td>15.6</td>\n",
       "      <td>Full HD 1920x1080</td>\n",
       "      <td>i5</td>\n",
       "      <td>8</td>\n",
       "      <td>256GB SSD</td>\n",
       "      <td>5112900</td>\n",
       "      <td>Intel</td>\n",
       "      <td>No OS</td>\n",
       "      <td>10</td>\n",
       "      <td>1.86</td>\n",
       "      <td>1920</td>\n",
       "      <td>1080</td>\n",
       "    </tr>\n",
       "    <tr>\n",
       "      <th>3</th>\n",
       "      <td>Apple</td>\n",
       "      <td>MacBook Pro</td>\n",
       "      <td>Ultrabook</td>\n",
       "      <td>15.4</td>\n",
       "      <td>IPS Panel Retina Display 2880x1800</td>\n",
       "      <td>i7</td>\n",
       "      <td>16</td>\n",
       "      <td>512GB SSD</td>\n",
       "      <td>2256300</td>\n",
       "      <td>AMD</td>\n",
       "      <td>Mac OS</td>\n",
       "      <td>10</td>\n",
       "      <td>1.83</td>\n",
       "      <td>2880</td>\n",
       "      <td>1800</td>\n",
       "    </tr>\n",
       "    <tr>\n",
       "      <th>4</th>\n",
       "      <td>Apple</td>\n",
       "      <td>MacBook Pro</td>\n",
       "      <td>Ultrabook</td>\n",
       "      <td>13.3</td>\n",
       "      <td>IPS Panel Retina Display 2560x1600</td>\n",
       "      <td>i5</td>\n",
       "      <td>8</td>\n",
       "      <td>256GB SSD</td>\n",
       "      <td>1603761</td>\n",
       "      <td>Intel</td>\n",
       "      <td>Mac OS</td>\n",
       "      <td>10</td>\n",
       "      <td>1.37</td>\n",
       "      <td>2560</td>\n",
       "      <td>1600</td>\n",
       "    </tr>\n",
       "  </tbody>\n",
       "</table>\n",
       "</div>"
      ],
      "text/plain": [
       "  manufacturer   model_name   category screen_size  \\\n",
       "0        Apple  MacBook Pro  Ultrabook        13.3   \n",
       "1        Apple  Macbook Air  Ultrabook        13.3   \n",
       "2           HP       250 G6   Notebook        15.6   \n",
       "3        Apple  MacBook Pro  Ultrabook        15.4   \n",
       "4        Apple  MacBook Pro  Ultrabook        13.3   \n",
       "\n",
       "                               screen cpu ram              storage    price  \\\n",
       "0  IPS Panel Retina Display 2560x1600  i5   8            128GB SSD  1191252   \n",
       "1                            1440x900  i5   8  128GB Flash Storage  7993374   \n",
       "2                   Full HD 1920x1080  i5   8            256GB SSD  5112900   \n",
       "3  IPS Panel Retina Display 2880x1800  i7  16            512GB SSD  2256300   \n",
       "4  IPS Panel Retina Display 2560x1600  i5   8            256GB SSD  1603761   \n",
       "\n",
       "     gpu operating_system operating_system_version weight x_res y_res  \n",
       "0  Intel           Mac OS                       10   1.37  2560  1600  \n",
       "1  Intel           Mac OS                       10   1.34  1440   900  \n",
       "2  Intel            No OS                       10   1.86  1920  1080  \n",
       "3    AMD           Mac OS                       10   1.83  2880  1800  \n",
       "4  Intel           Mac OS                       10   1.37  2560  1600  "
      ]
     },
     "execution_count": 14,
     "metadata": {},
     "output_type": "execute_result"
    }
   ],
   "source": [
    "laptops_data['x_res'] = splitdf[0]\n",
    "laptops_data['y_res'] = splitdf[1]\n",
    "\n",
    "laptops_data['x_res'] = laptops_data['x_res'].str.replace(',', '').str.findall(r'(\\d+\\.?\\d+)').apply(lambda x:x[0])\n",
    "laptops_data.head()"
   ]
  },
  {
   "cell_type": "code",
   "execution_count": 15,
   "id": "ac83ab8c-4ba8-466d-9263-0a20d90b98ef",
   "metadata": {},
   "outputs": [
    {
     "name": "stdout",
     "output_type": "stream",
     "text": [
      "<class 'pandas.core.frame.DataFrame'>\n",
      "RangeIndex: 977 entries, 0 to 976\n",
      "Data columns (total 15 columns):\n",
      " #   Column                    Non-Null Count  Dtype  \n",
      "---  ------                    --------------  -----  \n",
      " 0   manufacturer              977 non-null    object \n",
      " 1   model_name                977 non-null    object \n",
      " 2   category                  977 non-null    object \n",
      " 3   screen_size               977 non-null    float64\n",
      " 4   screen                    977 non-null    object \n",
      " 5   cpu                       977 non-null    object \n",
      " 6   ram                       977 non-null    int32  \n",
      " 7   storage                   977 non-null    object \n",
      " 8   price                     977 non-null    float64\n",
      " 9   gpu                       977 non-null    object \n",
      " 10  operating_system          977 non-null    object \n",
      " 11  operating_system_version  977 non-null    object \n",
      " 12  weight                    977 non-null    float64\n",
      " 13  x_res                     977 non-null    int32  \n",
      " 14  y_res                     977 non-null    int32  \n",
      "dtypes: float64(3), int32(3), object(9)\n",
      "memory usage: 103.2+ KB\n"
     ]
    }
   ],
   "source": [
    "laptops_data['x_res'] = laptops_data['x_res'].astype('int')\n",
    "laptops_data['y_res'] = laptops_data['y_res'].astype('int')\n",
    "\n",
    "laptops_data['screen_size'] = laptops_data['screen_size'].replace('?', float('0'))\n",
    "laptops_data['screen_size'] = laptops_data['screen_size'].astype('float')\n",
    "laptops_data['ram'] = laptops_data['ram'].astype('int')\n",
    "laptops_data['weight'] = laptops_data['weight'].astype('float')\n",
    "laptops_data['price'] = laptops_data['price'].astype('float')\n",
    "laptops_data.info()"
   ]
  },
  {
   "cell_type": "markdown",
   "id": "d62c1817-4aa0-48d2-96bd-f3ddd23e7dc4",
   "metadata": {},
   "source": [
    "Getting a correlation among the numerica values!"
   ]
  },
  {
   "cell_type": "code",
   "execution_count": 16,
   "id": "c6f7ecb0-d825-451d-9781-8312c4fb7756",
   "metadata": {},
   "outputs": [
    {
     "data": {
      "text/plain": [
       "screen_size    0.103889\n",
       "ram           -0.238311\n",
       "price          1.000000\n",
       "weight         0.052363\n",
       "x_res         -0.195328\n",
       "y_res         -0.201208\n",
       "Name: price, dtype: float64"
      ]
     },
     "execution_count": 16,
     "metadata": {},
     "output_type": "execute_result"
    }
   ],
   "source": [
    "numeric_df = laptops_data.select_dtypes(include = ['number'])\n",
    "b = numeric_df.corr()\n",
    "numeric_df.corr()['price']"
   ]
  },
  {
   "cell_type": "code",
   "execution_count": 17,
   "id": "c82f8e73-ce63-4d11-9b2c-12f72156aaee",
   "metadata": {},
   "outputs": [
    {
     "data": {
      "text/plain": [
       "<Axes: >"
      ]
     },
     "execution_count": 17,
     "metadata": {},
     "output_type": "execute_result"
    },
    {
     "data": {
      "image/png": "[encoded data removed]",
      "text/plain": [
       "<Figure size 1500x700 with 2 Axes>"
      ]
     },
     "metadata": {},
     "output_type": "display_data"
    }
   ],
   "source": [
    "plt.figure(figsize = (15, 7))\n",
    "sns.heatmap(b, annot = True, cmap = 'plasma')"
   ]
  },
  {
   "cell_type": "markdown",
   "id": "96c98195-5086-4df9-a371-33513ab21872",
   "metadata": {},
   "source": [
    "Getting Pixels Per Inch - PPI"
   ]
  },
  {
   "cell_type": "code",
   "execution_count": 18,
   "id": "d29f7408-96e2-4132-a25d-c8cc1604f7cc",
   "metadata": {},
   "outputs": [],
   "source": [
    "laptops_data['PPI'] = ((laptops_data['x_res']**2 + laptops_data['y_res']**2)**0.5/laptops_data['screen_size']).astype('float')\n",
    "laptops_data.drop(columns = ['screen_size','x_res','y_res'],axis = 1,inplace =True)"
   ]
  },
  {
   "cell_type": "code",
   "execution_count": 19,
   "id": "cc911e3e-2059-4618-87a0-825a56ae1a6b",
   "metadata": {},
   "outputs": [
    {
     "data": {
      "text/plain": [
       "cpu\n",
       "i7        386\n",
       "i5        330\n",
       "others    156\n",
       "i3        105\n",
       "Name: count, dtype: int64"
      ]
     },
     "execution_count": 19,
     "metadata": {},
     "output_type": "execute_result"
    }
   ],
   "source": [
    "laptops_data['cpu'].value_counts()"
   ]
  },
  {
   "cell_type": "code",
   "execution_count": 21,
   "id": "18321582-b362-4cd5-a5c4-b8b223146238",
   "metadata": {},
   "outputs": [
    {
     "data": {
      "text/plain": [
       "storage\n",
       "256GB SSD                        318\n",
       "1TB HDD                          171\n",
       "512GB SSD                         91\n",
       "500GB HDD                         79\n",
       "128GB SSD +  1TB HDD              71\n",
       "128GB SSD                         62\n",
       "256GB SSD +  1TB HDD              52\n",
       "32GB Flash Storage                29\n",
       "2TB HDD                           14\n",
       "512GB SSD +  1TB HDD              13\n",
       "1TB SSD                           11\n",
       "256GB SSD +  2TB HDD              10\n",
       "64GB Flash Storage                 9\n",
       "16GB Flash Storage                 6\n",
       "256GB Flash Storage                5\n",
       "32GB SSD                           5\n",
       "128GB Flash Storage                4\n",
       "1GB SSD                            4\n",
       "256GB SSD +  256GB SSD             2\n",
       "16GB SSD                           2\n",
       "1TB SSD +  1TB HDD                 2\n",
       "512GB SSD +  2TB HDD               2\n",
       "128GB SSD +  2TB HDD               2\n",
       "512GB SSD +  512GB SSD             1\n",
       "512GB SSD +  256GB SSD             1\n",
       "64GB SSD                           1\n",
       "64GB Flash Storage +  1TB HDD      1\n",
       "256GB SSD +  500GB HDD             1\n",
       "1TB HDD +  1TB HDD                 1\n",
       "32GB HDD                           1\n",
       "1TB Hybrid                         1\n",
       "512GB Flash Storage                1\n",
       "128GB HDD                          1\n",
       "240GB SSD                          1\n",
       "8GB SSD                            1\n",
       "508GB Hybrid                       1\n",
       "Name: count, dtype: int64"
      ]
     },
     "execution_count": 21,
     "metadata": {},
     "output_type": "execute_result"
    }
   ],
   "source": [
    "laptops_data['storage'].value_counts()"
   ]
  },
  {
   "cell_type": "code",
   "execution_count": null,
   "id": "2be60649-806f-4cab-be8c-0cc4f4d380fd",
   "metadata": {},
   "outputs": [],
   "source": [
    "laptops_data["
   ]
  }
 ],
 "metadata": {
  "kernelspec": {
   "display_name": "Python 3 (ipykernel)",
   "language": "python",
   "name": "python3"
  },
  "language_info": {
   "codemirror_mode": {
    "name": "ipython",
    "version": 3
   },
   "file_extension": ".py",
   "mimetype": "text/x-python",
   "name": "python",
   "nbconvert_exporter": "python",
   "pygments_lexer": "ipython3",
   "version": "3.11.5"
  }
 },
 "nbformat": 4,
 "nbformat_minor": 5
}
