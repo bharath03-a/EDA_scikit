{
 "cells": [
  {
   "cell_type": "markdown",
   "id": "350e08bc",
   "metadata": {},
   "source": [
    "## Exploratory Data Analysis and Linear Models\n",
    "This is the process of me getting to know and explore scikit learn library for machine learning. My goals in this process are to:\n",
    "- Develop Machine Learning skills while exploring scikit learn.\n",
    "- Create my own repository containing an overview of what could be done using scikit learn.\n",
    "- And add key points which made me think out loud and surpised me!\n",
    "- With this I also would like to recall and hone my skills in pandas, numpy, scipy, seaborn, matplotlib and more"
   ]
  },
  {
   "cell_type": "markdown",
   "id": "b5ea52a2",
   "metadata": {},
   "source": [
    "## Importing Libraries and Packages\n",
    "We will be use these packages to help us manipulate the data and visualize the features as well as measure how well our model performed."
   ]
  },
  {
   "cell_type": "code",
   "execution_count": 1,
   "id": "4f46efc8",
   "metadata": {
    "scrolled": true,
    "tags": []
   },
   "outputs": [
    {
     "name": "stdout",
     "output_type": "stream",
     "text": [
      "['laptops_train.csv']\n"
     ]
    }
   ],
   "source": [
    "import sys\n",
    "import numpy as np\n",
    "import pandas as pd\n",
    "import seaborn as sns\n",
    "from matplotlib import pyplot as plt\n",
    "\n",
    "sys.path.append('../scripts')\n",
    "import utilities as ut\n",
    "\n",
    "sns.set_style(\"whitegrid\")\n",
    "%matplotlib inline\n",
    "\n",
    "import os \n",
    "print(os.listdir(\"../data\"))"
   ]
  },
  {
   "cell_type": "markdown",
   "id": "ef328f13",
   "metadata": {},
   "source": [
    "## Loading and Viewing Data Set\n",
    "Before we begin, we should take a look at our data table to see the values that we'll be working with. We can use the head and describe function to look at some sample data and statistics. We can also look at its keys and column names."
   ]
  },
  {
   "cell_type": "code",
   "execution_count": 2,
   "id": "124d9387",
   "metadata": {
    "tags": []
   },
   "outputs": [
    {
     "data": {
      "text/html": [
       "<div>\n",
       "<style scoped>\n",
       "    .dataframe tbody tr th:only-of-type {\n",
       "        vertical-align: middle;\n",
       "    }\n",
       "\n",
       "    .dataframe tbody tr th {\n",
       "        vertical-align: top;\n",
       "    }\n",
       "\n",
       "    .dataframe thead th {\n",
       "        text-align: right;\n",
       "    }\n",
       "</style>\n",
       "<table border=\"1\" class=\"dataframe\">\n",
       "  <thead>\n",
       "    <tr style=\"text-align: right;\">\n",
       "      <th></th>\n",
       "      <th>Manufacturer</th>\n",
       "      <th>Model Name</th>\n",
       "      <th>Category</th>\n",
       "      <th>Screen Size</th>\n",
       "      <th>Screen</th>\n",
       "      <th>CPU</th>\n",
       "      <th>RAM</th>\n",
       "      <th>Storage</th>\n",
       "      <th>GPU</th>\n",
       "      <th>Operating System</th>\n",
       "      <th>Operating System Version</th>\n",
       "      <th>Weight</th>\n",
       "      <th>Price</th>\n",
       "    </tr>\n",
       "  </thead>\n",
       "  <tbody>\n",
       "    <tr>\n",
       "      <th>0</th>\n",
       "      <td>Apple</td>\n",
       "      <td>MacBook Pro</td>\n",
       "      <td>Ultrabook</td>\n",
       "      <td>13.3\"</td>\n",
       "      <td>IPS Panel Retina Display 2560x1600</td>\n",
       "      <td>Intel Core i5 2.3GHz</td>\n",
       "      <td>8GB</td>\n",
       "      <td>128GB SSD</td>\n",
       "      <td>Intel Iris Plus Graphics 640</td>\n",
       "      <td>macOS</td>\n",
       "      <td>NaN</td>\n",
       "      <td>1.37kg</td>\n",
       "      <td>11912523.48</td>\n",
       "    </tr>\n",
       "    <tr>\n",
       "      <th>1</th>\n",
       "      <td>Apple</td>\n",
       "      <td>Macbook Air</td>\n",
       "      <td>Ultrabook</td>\n",
       "      <td>13.3\"</td>\n",
       "      <td>1440x900</td>\n",
       "      <td>Intel Core i5 1.8GHz</td>\n",
       "      <td>8GB</td>\n",
       "      <td>128GB Flash Storage</td>\n",
       "      <td>Intel HD Graphics 6000</td>\n",
       "      <td>macOS</td>\n",
       "      <td>NaN</td>\n",
       "      <td>1.34kg</td>\n",
       "      <td>7993374.48</td>\n",
       "    </tr>\n",
       "    <tr>\n",
       "      <th>2</th>\n",
       "      <td>HP</td>\n",
       "      <td>250 G6</td>\n",
       "      <td>Notebook</td>\n",
       "      <td>15.6\"</td>\n",
       "      <td>Full HD 1920x1080</td>\n",
       "      <td>Intel Core i5 7200U 2.5GHz</td>\n",
       "      <td>8GB</td>\n",
       "      <td>256GB SSD</td>\n",
       "      <td>Intel HD Graphics 620</td>\n",
       "      <td>No OS</td>\n",
       "      <td>NaN</td>\n",
       "      <td>1.86kg</td>\n",
       "      <td>5112900.00</td>\n",
       "    </tr>\n",
       "    <tr>\n",
       "      <th>3</th>\n",
       "      <td>Apple</td>\n",
       "      <td>MacBook Pro</td>\n",
       "      <td>Ultrabook</td>\n",
       "      <td>15.4\"</td>\n",
       "      <td>IPS Panel Retina Display 2880x1800</td>\n",
       "      <td>Intel Core i7 2.7GHz</td>\n",
       "      <td>16GB</td>\n",
       "      <td>512GB SSD</td>\n",
       "      <td>AMD Radeon Pro 455</td>\n",
       "      <td>macOS</td>\n",
       "      <td>NaN</td>\n",
       "      <td>1.83kg</td>\n",
       "      <td>22563005.40</td>\n",
       "    </tr>\n",
       "    <tr>\n",
       "      <th>4</th>\n",
       "      <td>Apple</td>\n",
       "      <td>MacBook Pro</td>\n",
       "      <td>Ultrabook</td>\n",
       "      <td>13.3\"</td>\n",
       "      <td>IPS Panel Retina Display 2560x1600</td>\n",
       "      <td>Intel Core i5 3.1GHz</td>\n",
       "      <td>8GB</td>\n",
       "      <td>256GB SSD</td>\n",
       "      <td>Intel Iris Plus Graphics 650</td>\n",
       "      <td>macOS</td>\n",
       "      <td>NaN</td>\n",
       "      <td>1.37kg</td>\n",
       "      <td>16037611.20</td>\n",
       "    </tr>\n",
       "  </tbody>\n",
       "</table>\n",
       "</div>"
      ],
      "text/plain": [
       "  Manufacturer   Model Name   Category Screen Size  \\\n",
       "0        Apple  MacBook Pro  Ultrabook       13.3\"   \n",
       "1        Apple  Macbook Air  Ultrabook       13.3\"   \n",
       "2           HP       250 G6   Notebook       15.6\"   \n",
       "3        Apple  MacBook Pro  Ultrabook       15.4\"   \n",
       "4        Apple  MacBook Pro  Ultrabook       13.3\"   \n",
       "\n",
       "                               Screen                         CPU   RAM  \\\n",
       "0  IPS Panel Retina Display 2560x1600        Intel Core i5 2.3GHz   8GB   \n",
       "1                            1440x900        Intel Core i5 1.8GHz   8GB   \n",
       "2                   Full HD 1920x1080  Intel Core i5 7200U 2.5GHz   8GB   \n",
       "3  IPS Panel Retina Display 2880x1800        Intel Core i7 2.7GHz  16GB   \n",
       "4  IPS Panel Retina Display 2560x1600        Intel Core i5 3.1GHz   8GB   \n",
       "\n",
       "               Storage                           GPU Operating System  \\\n",
       "0            128GB SSD  Intel Iris Plus Graphics 640            macOS   \n",
       "1  128GB Flash Storage        Intel HD Graphics 6000            macOS   \n",
       "2            256GB SSD         Intel HD Graphics 620            No OS   \n",
       "3            512GB SSD            AMD Radeon Pro 455            macOS   \n",
       "4            256GB SSD  Intel Iris Plus Graphics 650            macOS   \n",
       "\n",
       "  Operating System Version  Weight        Price  \n",
       "0                      NaN  1.37kg  11912523.48  \n",
       "1                      NaN  1.34kg   7993374.48  \n",
       "2                      NaN  1.86kg   5112900.00  \n",
       "3                      NaN  1.83kg  22563005.40  \n",
       "4                      NaN  1.37kg  16037611.20  "
      ]
     },
     "execution_count": 2,
     "metadata": {},
     "output_type": "execute_result"
    }
   ],
   "source": [
    "laptops_data = pd.read_csv(\"../data/laptops_train.csv\")\n",
    "\n",
    "laptops_data.head()"
   ]
  },
  {
   "cell_type": "markdown",
   "id": "8239b86d",
   "metadata": {},
   "source": [
    "Starting our exploratory data analysis before implementing scikit learn linear models on top of this dataset. We will be performing the following operations on our dataset:\n",
    "- Data Preprocessing\n",
    "- Segementing data into smaller unique values\n",
    "- Handling Datatypes\n",
    "- Data Quality"
   ]
  },
  {
   "cell_type": "code",
   "execution_count": 3,
   "id": "fee3e196",
   "metadata": {
    "tags": []
   },
   "outputs": [
    {
     "name": "stdout",
     "output_type": "stream",
     "text": [
      "<class 'pandas.core.frame.DataFrame'>\n",
      "RangeIndex: 977 entries, 0 to 976\n",
      "Data columns (total 13 columns):\n",
      " #   Column                    Non-Null Count  Dtype  \n",
      "---  ------                    --------------  -----  \n",
      " 0   Manufacturer              977 non-null    object \n",
      " 1   Model Name                977 non-null    object \n",
      " 2   Category                  977 non-null    object \n",
      " 3   Screen Size               977 non-null    object \n",
      " 4   Screen                    977 non-null    object \n",
      " 5   CPU                       977 non-null    object \n",
      " 6   RAM                       977 non-null    object \n",
      " 7   Storage                   977 non-null    object \n",
      " 8   GPU                       977 non-null    object \n",
      " 9   Operating System          977 non-null    object \n",
      " 10  Operating System Version  841 non-null    object \n",
      " 11  Weight                    977 non-null    object \n",
      " 12  Price                     977 non-null    float64\n",
      "dtypes: float64(1), object(12)\n",
      "memory usage: 99.4+ KB\n"
     ]
    }
   ],
   "source": [
    "#check null values and data types in all columns\n",
    "laptops_data.info()"
   ]
  },
  {
   "cell_type": "markdown",
   "id": "4458657d",
   "metadata": {},
   "source": [
    "If we see there are columns such as Screen Size, CPU, Storage and Weight attributes with their units in the data. We will be modifying the data such that we will change their datatype."
   ]
  },
  {
   "cell_type": "code",
   "execution_count": 4,
   "id": "f298cb1a",
   "metadata": {
    "tags": []
   },
   "outputs": [
    {
     "name": "stdout",
     "output_type": "stream",
     "text": [
      "<class 'pandas.core.frame.DataFrame'>\n",
      "RangeIndex: 977 entries, 0 to 976\n",
      "Data columns (total 13 columns):\n",
      " #   Column                    Non-Null Count  Dtype  \n",
      "---  ------                    --------------  -----  \n",
      " 0   manufacturer              977 non-null    object \n",
      " 1   model_name                977 non-null    object \n",
      " 2   category                  977 non-null    object \n",
      " 3   screen_size               977 non-null    object \n",
      " 4   screen                    977 non-null    object \n",
      " 5   cpu                       977 non-null    object \n",
      " 6   ram                       977 non-null    object \n",
      " 7   storage                   977 non-null    object \n",
      " 8   gpu                       977 non-null    object \n",
      " 9   operating_system          977 non-null    object \n",
      " 10  operating_system_version  841 non-null    object \n",
      " 11  weight                    977 non-null    object \n",
      " 12  price                     977 non-null    float64\n",
      "dtypes: float64(1), object(12)\n",
      "memory usage: 99.4+ KB\n"
     ]
    }
   ],
   "source": [
    "laptops_data.columns = laptops_data.columns.str.strip().str.lower().str.replace(' ', '_').str.replace('(', '').str.replace(')', '')\n",
    "\n",
    "laptops_data.info()"
   ]
  },
  {
   "cell_type": "code",
   "execution_count": 5,
   "id": "9290c4a0-4f4c-49fc-8da2-2b7bec7192a5",
   "metadata": {
    "tags": []
   },
   "outputs": [
    {
     "name": "stdout",
     "output_type": "stream",
     "text": [
      "['__builtins__', '__cached__', '__doc__', '__file__', '__loader__', '__name__', '__package__', '__spec__', 'convert_cpu', 'get_gpu', 'get_storage_type', 'np', 'os', 'pd']\n"
     ]
    }
   ],
   "source": [
    "print(dir(ut))"
   ]
  },
  {
   "cell_type": "code",
   "execution_count": 6,
   "id": "babc7e7d",
   "metadata": {
    "tags": []
   },
   "outputs": [],
   "source": [
    "# modifying screen_size data\n",
    "laptops_data['screen_size'] = laptops_data['screen_size'].str.replace('\"','')\n",
    "\n",
    "# modifying CPU\n",
    "laptops_data['cpu'] = laptops_data['cpu'].apply(ut.convert_cpu)\n",
    "\n",
    "# modifying storage to two different column\n",
    "laptops_data['storage_type'] = laptops_data['storage'].apply(ut.get_storage_type)\n",
    "\n",
    "laptops_data['storage'] = laptops_data['storage'].str.split(' ').str[0]\n",
    "\n",
    "laptops_data['ram'] = laptops_data['ram'].str.split('GB').str[0]\n",
    "\n",
    "laptops_data['gpu'] = laptops_data['gpu'].apply(ut.get_gpu)\n",
    "\n",
    "laptops_data['operating_system'] = laptops_data['operating_system'].str.replace('macOS','Mac OS')\n",
    "\n",
    "laptops_data['weight'] = laptops_data['weight'].str.split('kg').str[0]"
   ]
  },
  {
   "cell_type": "code",
   "execution_count": 7,
   "id": "5f53c6d3-7c01-48bf-90c5-f51bb2239a69",
   "metadata": {
    "tags": []
   },
   "outputs": [],
   "source": [
    "laptops_data['operating_system_version'] = laptops_data['operating_system_version'].fillna(laptops_data['operating_system_version'].mode()[0])\n",
    "\n",
    "laptops_data['operating_system_version'] = laptops_data['operating_system_version'].str.replace('X','10')\n",
    "\n",
    "laptops_data['operating_system_version'] = laptops_data['operating_system_version'].str.replace('10 S','10')"
   ]
  },
  {
   "cell_type": "code",
   "execution_count": 8,
   "id": "4b675c6b-75f6-44c8-bbf4-73093ad4098c",
   "metadata": {
    "tags": []
   },
   "outputs": [],
   "source": [
    "#regualar or more powerfull laptop can never be in crore price\n",
    "#price will  be in lakh so we string str funtion to get price in lakhs\n",
    "\n",
    "laptops_data['price'] = laptops_data['price'].astype('str').str[:7]"
   ]
  },
  {
   "cell_type": "code",
   "execution_count": 9,
   "id": "5083877f-0420-4a83-9ee1-816fb8f2e8a4",
   "metadata": {
    "tags": []
   },
   "outputs": [
    {
     "data": {
      "text/html": [
       "<div>\n",
       "<style scoped>\n",
       "    .dataframe tbody tr th:only-of-type {\n",
       "        vertical-align: middle;\n",
       "    }\n",
       "\n",
       "    .dataframe tbody tr th {\n",
       "        vertical-align: top;\n",
       "    }\n",
       "\n",
       "    .dataframe thead th {\n",
       "        text-align: right;\n",
       "    }\n",
       "</style>\n",
       "<table border=\"1\" class=\"dataframe\">\n",
       "  <thead>\n",
       "    <tr style=\"text-align: right;\">\n",
       "      <th></th>\n",
       "      <th>manufacturer</th>\n",
       "      <th>model_name</th>\n",
       "      <th>category</th>\n",
       "      <th>screen_size</th>\n",
       "      <th>screen</th>\n",
       "      <th>cpu</th>\n",
       "      <th>ram</th>\n",
       "      <th>storage</th>\n",
       "      <th>storage_type</th>\n",
       "      <th>gpu</th>\n",
       "      <th>operating_system</th>\n",
       "      <th>operating_system_version</th>\n",
       "      <th>weight</th>\n",
       "      <th>price</th>\n",
       "    </tr>\n",
       "  </thead>\n",
       "  <tbody>\n",
       "    <tr>\n",
       "      <th>0</th>\n",
       "      <td>Apple</td>\n",
       "      <td>MacBook Pro</td>\n",
       "      <td>Ultrabook</td>\n",
       "      <td>13.3</td>\n",
       "      <td>IPS Panel Retina Display 2560x1600</td>\n",
       "      <td>i5</td>\n",
       "      <td>8</td>\n",
       "      <td>128GB</td>\n",
       "      <td>SSD</td>\n",
       "      <td>Intel</td>\n",
       "      <td>Mac OS</td>\n",
       "      <td>10</td>\n",
       "      <td>1.37</td>\n",
       "      <td>1191252</td>\n",
       "    </tr>\n",
       "    <tr>\n",
       "      <th>1</th>\n",
       "      <td>Apple</td>\n",
       "      <td>Macbook Air</td>\n",
       "      <td>Ultrabook</td>\n",
       "      <td>13.3</td>\n",
       "      <td>1440x900</td>\n",
       "      <td>i5</td>\n",
       "      <td>8</td>\n",
       "      <td>128GB</td>\n",
       "      <td>Flash Storage</td>\n",
       "      <td>Intel</td>\n",
       "      <td>Mac OS</td>\n",
       "      <td>10</td>\n",
       "      <td>1.34</td>\n",
       "      <td>7993374</td>\n",
       "    </tr>\n",
       "    <tr>\n",
       "      <th>2</th>\n",
       "      <td>HP</td>\n",
       "      <td>250 G6</td>\n",
       "      <td>Notebook</td>\n",
       "      <td>15.6</td>\n",
       "      <td>Full HD 1920x1080</td>\n",
       "      <td>i5</td>\n",
       "      <td>8</td>\n",
       "      <td>256GB</td>\n",
       "      <td>SSD</td>\n",
       "      <td>Intel</td>\n",
       "      <td>No OS</td>\n",
       "      <td>10</td>\n",
       "      <td>1.86</td>\n",
       "      <td>5112900</td>\n",
       "    </tr>\n",
       "    <tr>\n",
       "      <th>3</th>\n",
       "      <td>Apple</td>\n",
       "      <td>MacBook Pro</td>\n",
       "      <td>Ultrabook</td>\n",
       "      <td>15.4</td>\n",
       "      <td>IPS Panel Retina Display 2880x1800</td>\n",
       "      <td>i7</td>\n",
       "      <td>16</td>\n",
       "      <td>512GB</td>\n",
       "      <td>SSD</td>\n",
       "      <td>AMD</td>\n",
       "      <td>Mac OS</td>\n",
       "      <td>10</td>\n",
       "      <td>1.83</td>\n",
       "      <td>2256300</td>\n",
       "    </tr>\n",
       "    <tr>\n",
       "      <th>4</th>\n",
       "      <td>Apple</td>\n",
       "      <td>MacBook Pro</td>\n",
       "      <td>Ultrabook</td>\n",
       "      <td>13.3</td>\n",
       "      <td>IPS Panel Retina Display 2560x1600</td>\n",
       "      <td>i5</td>\n",
       "      <td>8</td>\n",
       "      <td>256GB</td>\n",
       "      <td>SSD</td>\n",
       "      <td>Intel</td>\n",
       "      <td>Mac OS</td>\n",
       "      <td>10</td>\n",
       "      <td>1.37</td>\n",
       "      <td>1603761</td>\n",
       "    </tr>\n",
       "  </tbody>\n",
       "</table>\n",
       "</div>"
      ],
      "text/plain": [
       "  manufacturer   model_name   category screen_size  \\\n",
       "0        Apple  MacBook Pro  Ultrabook        13.3   \n",
       "1        Apple  Macbook Air  Ultrabook        13.3   \n",
       "2           HP       250 G6   Notebook        15.6   \n",
       "3        Apple  MacBook Pro  Ultrabook        15.4   \n",
       "4        Apple  MacBook Pro  Ultrabook        13.3   \n",
       "\n",
       "                               screen cpu ram storage   storage_type    gpu  \\\n",
       "0  IPS Panel Retina Display 2560x1600  i5   8   128GB            SSD  Intel   \n",
       "1                            1440x900  i5   8   128GB  Flash Storage  Intel   \n",
       "2                   Full HD 1920x1080  i5   8   256GB            SSD  Intel   \n",
       "3  IPS Panel Retina Display 2880x1800  i7  16   512GB            SSD    AMD   \n",
       "4  IPS Panel Retina Display 2560x1600  i5   8   256GB            SSD  Intel   \n",
       "\n",
       "  operating_system operating_system_version weight    price  \n",
       "0           Mac OS                       10   1.37  1191252  \n",
       "1           Mac OS                       10   1.34  7993374  \n",
       "2            No OS                       10   1.86  5112900  \n",
       "3           Mac OS                       10   1.83  2256300  \n",
       "4           Mac OS                       10   1.37  1603761  "
      ]
     },
     "execution_count": 9,
     "metadata": {},
     "output_type": "execute_result"
    }
   ],
   "source": [
    "column_names = list(laptops_data.columns)\n",
    "new_column_index = 8  # Index after which you want to place the new column\n",
    "\n",
    "# Reorder columns\n",
    "column_names.insert(new_column_index, column_names.pop())\n",
    "\n",
    "# Create a new DataFrame with the reordered columns\n",
    "laptops_data = laptops_data[column_names]\n",
    "\n",
    "# Now, the new column is placed after the first column\n",
    "laptops_data.head()"
   ]
  }
 ],
 "metadata": {
  "kernelspec": {
   "display_name": "Python 3 (ipykernel)",
   "language": "python",
   "name": "python3"
  },
  "language_info": {
   "codemirror_mode": {
    "name": "ipython",
    "version": 3
   },
   "file_extension": ".py",
   "mimetype": "text/x-python",
   "name": "python",
   "nbconvert_exporter": "python",
   "pygments_lexer": "ipython3",
   "version": "3.11.5"
  }
 },
 "nbformat": 4,
 "nbformat_minor": 5
}
